{
  "nbformat": 4,
  "nbformat_minor": 0,
  "metadata": {
    "colab": {
      "provenance": [],
      "include_colab_link": true
    },
    "kernelspec": {
      "name": "python3",
      "display_name": "Python 3"
    },
    "language_info": {
      "name": "python"
    }
  },
  "cells": [
    {
      "cell_type": "markdown",
      "metadata": {
        "id": "view-in-github",
        "colab_type": "text"
      },
      "source": [
        "<a href=\"https://colab.research.google.com/github/MaddieS03/gis-project-portfolio-geo441-541b/blob/main/basic-mapping/mapping-digital-elevation-and%20hydrology-data.ipynb\" target=\"_parent\"><img src=\"https://colab.research.google.com/assets/colab-badge.svg\" alt=\"Open In Colab\"/></a>"
      ]
    },
    {
      "cell_type": "markdown",
      "source": [
        "# **Mapping digital elevation and hydrology data**"
      ],
      "metadata": {
        "id": "C0ymCPR5aSHN"
      }
    },
    {
      "cell_type": "markdown",
      "source": [
        "🚀 Created by Ash Slater\n",
        "\n",
        "10/20/2024"
      ],
      "metadata": {
        "id": "Pt_OREXFPvkr"
      }
    },
    {
      "cell_type": "markdown",
      "source": [
        "## **Get ready to start**\n",
        "\n",
        "- Click **`File/Save a copy in Drive`** to save a copy of this notebook to my own Google Drive"
      ],
      "metadata": {
        "id": "CMQN_pgaHVLO"
      }
    },
    {
      "cell_type": "markdown",
      "source": [
        "## **Overview**\n",
        "\n",
        "This notebook contains the following two parts:\n",
        "\n",
        "- Create a map following the [assignment guide](https://miamioh.instructure.com/files/33254544/download?download_frd=1) for a digital elevation model of [Lower St. Croix watershed in Minnesoda](https://www.pca.state.mn.us/watershed-information/lower-st-croix-river) and hydrological data from National Hydrological Data (NHD)\n",
        "- Identify at least one raster dataset that can be used in your group project\n",
        "  - Revisit our [project topic pool](https://colab.research.google.com/drive/1aLwfdEKYufJ5s0H8CxbtKfEopYriQGIi?usp=drive_link) if necessary"
      ],
      "metadata": {
        "id": "6tKmlbnzny_I"
      }
    },
    {
      "cell_type": "markdown",
      "source": [
        "## **Map of elevation and hydrological information of the Lower St. Croix River Watershed, MN**\n"
      ],
      "metadata": {
        "id": "WVs4J1jQbESU"
      }
    },
    {
      "cell_type": "markdown",
      "source": [
        "- Use the checklist below to make sure our map contains all necessary map content and is formatted correctly\n",
        "\n",
        "  - [ ] Contains a title with byline (i.e., by [your name])\n",
        "  - [ ] Use a larger and bold font type for the title\n",
        "  - [ ] Contains one layer of **NHD Flowline** with three types of flows\n",
        "    - [ ] Artificial Path\n",
        "    - [ ] Canal Ditch\n",
        "    - [ ] Stream River\n",
        "  - [ ] Contains a layer of **NHD Water Body** with two types\n",
        "    - [ ] Lake Pond\n",
        "    - [ ] Reservoir\n",
        "  - [ ] Contains a of **Elevation**\n",
        "  - [ ] A **hillshade** layer is added to the map to enhance the visualization of elevation, but **not included** in the legend\n",
        "  - [ ] Uses the elevation color ramp to visualize the **Elevation** layer by elevation\n",
        "  - [ ] Contains a map scale\n",
        "  - [ ] Contains a legend\n",
        "  - [ ] Contains a north arrow\n",
        "  - [ ] Uses a balanced layout for all map elements\n",
        "    - [ ] Map stays in the center of layout\n",
        "    - [ ] Font size of title is appropriate (not too big or too small)\n",
        "    - [ ] Legend, map scale bar, and north arrow are placed appropriately to avoid an overlap with the map layers\n",
        "    - [ ] Legend, map scale bar, and north arrow has an appropriate size (big enough to read information, small enough to reserve most of space for map layers"
      ],
      "metadata": {
        "id": "bXB_pi-aPTOT"
      }
    },
    {
      "cell_type": "markdown",
      "source": [
        "```markdown\n",
        "https://drive.google.com/file/d/1tGJgx0TkesibK4SQtSFPXq1pkAOc6fRk/view?usp=sharing\n",
        "```\n",
        "\n",
        "- After finishing the two steps below, a link can be created to correctly rendered in Google Colab\n",
        "  - Deleted **`/view?usp=sharing`** at the end of the link\n",
        "  - Replaced **`/file/d/`** with **`/uc?export=view&id=`**\n",
        "\n",
        "```markdown\n",
        "https://drive.google.com/uc?export=view&id=1tGJgx0TkesibK4SQtSFPXq1pkAOc6fRk\n",
        "```\n",
        "\n",
        "- The map can be inserted in Google Colab following the syntax [from here](https://www.markdownguide.org/cheat-sheet/)\n",
        "\n",
        "```markdown\n",
        "Insert the map here using syntax:\n",
        "![lower st croix watershed](revised link)\n",
        "```\n",
        "\n",
        "![lower st croix watershed](https://drive.google.com/uc?export=view&id=1tGJgx0TkesibK4SQtSFPXq1pkAOc6fRk)"
      ],
      "metadata": {
        "id": "wkJqun7umRRk"
      }
    },
    {
      "cell_type": "markdown",
      "source": [
        "## **Raster data for group project**\n",
        "\n",
        "- **Provide the name and the link to the raster dataset you identified for your group project**\n",
        "  - You can begin with the following portals\n",
        "    - [ArcGIS Living Atlas of the World](https://livingatlas.arcgis.com/en/home/)\n",
        "    - [NASAS WorldView](https://worldview.earthdata.nasa.gov/)\n",
        "      - Click **Add Layers** to identify datasets for different subjects (including **human dimensions**)\n",
        "    - [NASA Socioeconomic Data and Applications Center (SEDAC)](https://sedac.ciesin.columbia.edu/)\n",
        "\n",
        "| Name of Dataset | Dataset Producer | Link to Dataset |\n",
        "| ---------------- | ---------------- | ---------------- |\n",
        "| Raster All RS FRIS Rasters | Washington State Department of Natural Resources | https://www.arcgis.com/home/item.html?id=cfdfaab44b9b49adb2740e84ed722b68 |"
      ],
      "metadata": {
        "id": "d8B4v6BIJYRw"
      }
    },
    {
      "cell_type": "markdown",
      "source": [
        "- **Provide the specifics of the raster dataset you identified**\n",
        "\n",
        "| Spatial Resolution | Temporal Resolution* | Spatial Extent |\n",
        "| ---------------- | ---------------- | ---------------- |\n",
        "| 4096 (?) | Yearly | Washington,  USA |\n",
        "\n",
        "*Temporal resolution of data: Wheather the data is acquired on a daily, monthly, yearly, or multi-year basis*"
      ],
      "metadata": {
        "id": "xuG1CFbBlawa"
      }
    },
    {
      "cell_type": "markdown",
      "source": [
        "- **Why is the dataset you selected an appropriate choice for your current project?** Explain from the perspectives of the content of the data, spatial resolution, temporal resolution (daily, monthly, yearly acquisition), and/or spatial extent covered.\n",
        "\n",
        "I picked this because it is a wide look at all the tree biomass in Washington, and if you can identify large growing cities in the near by areas, you can find locations where vegitative biomass might in danger of being cut down. It is the entire state of washington, which is helpful for our project as Washington is currently fast growing and has a lot of biodiverisity and vegitation. It is taken every year by the Washington State Department of Natural Resources, so we could look at past years to see any change in biodiveristy.\n"
      ],
      "metadata": {
        "id": "SKZskx02mMvl"
      }
    },
    {
      "cell_type": "markdown",
      "source": [
        "## **Save and share this notebook**\n",
        "\n",
        "- Make this notebook viewable by anyone with the link and submit the link to Canvas as Week 8 assignment"
      ],
      "metadata": {
        "id": "kkgukjDcXsqC"
      }
    },
    {
      "cell_type": "markdown",
      "source": [
        "## **Reference**\n",
        "\n",
        "- [Markdown cheat sheet](https://www.markdownguide.org/cheat-sheet/)\n",
        "- [Insert other references]"
      ],
      "metadata": {
        "id": "fvMbEX89YLeY"
      }
    }
  ]
}